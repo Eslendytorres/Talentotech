{
  "cells": [
    {
      "cell_type": "code",
      "execution_count": null,
      "metadata": {
        "colab": {
          "base_uri": "https://localhost:8080/"
        },
        "id": "CRi38FQDMDyC",
        "outputId": "cb256a47-3093-4fca-83ec-84e3f007469c"
      },
      "outputs": [
        {
          "metadata": {
            "tags": null
          },
          "name": "stdout",
          "output_type": "stream",
          "text": [
            "\n",
            "--- Menú Notas Universidad ---\n",
            "1. Agregar estudiante\n",
            "2. Mostrar estudiantes\n",
            "3. Salir\n"
          ]
        }
      ],
      "source": [
        " #Programa que gestiona notas de estudiantes\n",
        "estudiantes = []\n",
        "\n",
        "while True:\n",
        "    print(\"\\n--- Menú Notas Universidad ---\")\n",
        "    print(\"1. Agregar estudiante\")\n",
        "    print(\"2. Mostrar estudiantes\")\n",
        "    print(\"3. Salir\")\n",
        "\n",
        "    opcion = input(\"Elige una opción: \")\n",
        "\n",
        "    if opcion == \"1\":\n",
        "        nombre = input(\"Nombre del estudiante: \")\n",
        "        nota = float(input(\"Nota final: \"))\n",
        "        estudiantes.append((nombre, nota))  # usamos tupla\n",
        "    elif opcion == \"2\":\n",
        "        print(\"\\nListado de Estudiantes:\")\n",
        "        for estudiante in estudiantes:\n",
        "            print(f\"{estudiante[0]} - Nota: {estudiante[1]}\")\n",
        "    elif opcion == \"3\":\n",
        "        print(\"¡Hasta luego!\")\n",
        "        break\n",
        "    else:\n",
        "        print(\"Opción inválida.\")"
      ]
    },
    {
      "cell_type": "code",
      "source": [
        "import random\n",
        "\n",
        "def elegir_palabra():\n",
        "    palabras = ['python', 'programacion', 'computadora', 'juego', 'ahorcado']\n",
        "    return random.choice(palabras)\n",
        "\n",
        "def mostrar_tablero(palabra_secreta, letras_adivinadas):\n",
        "    resultado = ''\n",
        "    for letra in palabra_secreta:\n",
        "        if letra in letras_adivinadas:\n",
        "            resultado += letra + ' '\n",
        "        else:\n",
        "            resultado += '_ '\n",
        "    print(resultado)\n",
        "\n",
        "def jugar_ahorcado():\n",
        "    palabra = elegir_palabra()\n",
        "    letras_adivinadas = []\n",
        "    intentos = 6\n",
        "\n",
        "    print(\"¡Bienvenido al juego del Ahorcado!\")\n",
        "    print(\"Tienes\", intentos, \"intentos.\")\n",
        "\n",
        "    while intentos > 0:\n",
        "        mostrar_tablero(palabra, letras_adivinadas)\n",
        "        letra = input(\"Adivina una letra: \").lower()\n",
        "\n",
        "        if len(letra) != 1 or not letra.isalpha():\n",
        "            print(\"Por favor, ingresa solo una letra.\")\n",
        "            continue\n",
        "\n",
        "        if letra in letras_adivinadas:\n",
        "            print(\"Ya adivinaste esa letra.\")\n",
        "            continue\n",
        "\n",
        "        letras_adivinadas.append(letra)\n",
        "\n",
        "        if letra not in palabra:\n",
        "            intentos -= 1\n",
        "            print(\"¡Incorrecto! Te quedan\", intentos, \"intentos.\")\n",
        "\n",
        "        if all(letra in letras_adivinadas for letra in palabra):\n",
        "            print(\"\\n¡Felicidades! Adivinaste la palabra:\", palabra)\n",
        "            break\n",
        "    else:\n",
        "        print(\"\\n¡Perdiste! La palabra era:\", palabra)\n",
        "\n",
        "# Iniciar el juego\n",
        "jugar_ahorcado()"
      ],
      "metadata": {
        "id": "WrzXoPatQlRC"
      },
      "execution_count": null,
      "outputs": []
    }
  ],
  "metadata": {
    "colab": {
      "provenance": []
    },
    "kernelspec": {
      "display_name": "Python 3",
      "name": "python3"
    },
    "language_info": {
      "name": "python"
    }
  },
  "nbformat": 4,
  "nbformat_minor": 0
}