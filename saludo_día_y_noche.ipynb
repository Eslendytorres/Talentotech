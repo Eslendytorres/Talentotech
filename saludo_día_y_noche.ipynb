{
  "nbformat": 4,
  "nbformat_minor": 0,
  "metadata": {
    "colab": {
      "provenance": []
    },
    "kernelspec": {
      "name": "python3",
      "display_name": "Python 3"
    },
    "language_info": {
      "name": "python"
    }
  },
  "cells": [
    {
      "cell_type": "code",
      "execution_count": null,
      "metadata": {
        "colab": {
          "base_uri": "https://localhost:8080/"
        },
        "id": "WUngB24u4fXK",
        "outputId": "311c6527-28cd-4ce1-b2a6-04b6171cbe4e"
      },
      "outputs": [
        {
          "output_type": "stream",
          "name": "stdout",
          "text": [
            "Ingresa la hora en formato 24 horas (0-23): 21\n",
            "¡Buenas noches!\n"
          ]
        }
      ],
      "source": [
        "# Pedir al usuario que ingrese la hora\n",
        "hora = int(input(\"Ingresa la hora en formato 24 horas (0-23): \"))\n",
        "\n",
        "# Verificar si la hora es válida\n",
        "if 0 <= hora <= 23:\n",
        "    if 6 <= hora < 18:\n",
        "        print(\"¡Buenos días!\")\n",
        "    else:\n",
        "        print(\"¡Buenas noches!\")\n",
        "else:\n",
        "    print(\"Hora no válida. Debe ser un número entre 0 y 23.\")\n"
      ]
    },
    {
      "cell_type": "code",
      "source": [],
      "metadata": {
        "id": "KXmM4_wj7uhO"
      },
      "execution_count": null,
      "outputs": []
    }
  ]
}